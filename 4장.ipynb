{
  "nbformat": 4,
  "nbformat_minor": 0,
  "metadata": {
    "colab": {
      "provenance": [],
      "authorship_tag": "ABX9TyNGAw1V/XpMg9iUgRdu1wL7",
      "include_colab_link": true
    },
    "kernelspec": {
      "name": "python3",
      "display_name": "Python 3"
    },
    "language_info": {
      "name": "python"
    }
  },
  "cells": [
    {
      "cell_type": "markdown",
      "metadata": {
        "id": "view-in-github",
        "colab_type": "text"
      },
      "source": [
        "<a href=\"https://colab.research.google.com/github/stargazer0/MachineLearning/blob/main/4%EC%9E%A5.ipynb\" target=\"_parent\"><img src=\"https://colab.research.google.com/assets/colab-badge.svg\" alt=\"Open In Colab\"/></a>"
      ]
    },
    {
      "cell_type": "code",
      "execution_count": null,
      "metadata": {
        "colab": {
          "base_uri": "https://localhost:8080/",
          "height": 206
        },
        "id": "6L1BdFrjlRwM",
        "outputId": "5e8d9727-e85d-4e0f-a487-282c9e6f4068"
      },
      "outputs": [
        {
          "output_type": "execute_result",
          "data": {
            "text/plain": [
              "  Species  Weight  Length  Diagonal   Height   Width\n",
              "0   Bream   242.0    25.4      30.0  11.5200  4.0200\n",
              "1   Bream   290.0    26.3      31.2  12.4800  4.3056\n",
              "2   Bream   340.0    26.5      31.1  12.3778  4.6961\n",
              "3   Bream   363.0    29.0      33.5  12.7300  4.4555\n",
              "4   Bream   430.0    29.0      34.0  12.4440  5.1340"
            ],
            "text/html": [
              "\n",
              "  <div id=\"df-63c2585e-5e5d-4e07-9122-296d7f0b376f\" class=\"colab-df-container\">\n",
              "    <div>\n",
              "<style scoped>\n",
              "    .dataframe tbody tr th:only-of-type {\n",
              "        vertical-align: middle;\n",
              "    }\n",
              "\n",
              "    .dataframe tbody tr th {\n",
              "        vertical-align: top;\n",
              "    }\n",
              "\n",
              "    .dataframe thead th {\n",
              "        text-align: right;\n",
              "    }\n",
              "</style>\n",
              "<table border=\"1\" class=\"dataframe\">\n",
              "  <thead>\n",
              "    <tr style=\"text-align: right;\">\n",
              "      <th></th>\n",
              "      <th>Species</th>\n",
              "      <th>Weight</th>\n",
              "      <th>Length</th>\n",
              "      <th>Diagonal</th>\n",
              "      <th>Height</th>\n",
              "      <th>Width</th>\n",
              "    </tr>\n",
              "  </thead>\n",
              "  <tbody>\n",
              "    <tr>\n",
              "      <th>0</th>\n",
              "      <td>Bream</td>\n",
              "      <td>242.0</td>\n",
              "      <td>25.4</td>\n",
              "      <td>30.0</td>\n",
              "      <td>11.5200</td>\n",
              "      <td>4.0200</td>\n",
              "    </tr>\n",
              "    <tr>\n",
              "      <th>1</th>\n",
              "      <td>Bream</td>\n",
              "      <td>290.0</td>\n",
              "      <td>26.3</td>\n",
              "      <td>31.2</td>\n",
              "      <td>12.4800</td>\n",
              "      <td>4.3056</td>\n",
              "    </tr>\n",
              "    <tr>\n",
              "      <th>2</th>\n",
              "      <td>Bream</td>\n",
              "      <td>340.0</td>\n",
              "      <td>26.5</td>\n",
              "      <td>31.1</td>\n",
              "      <td>12.3778</td>\n",
              "      <td>4.6961</td>\n",
              "    </tr>\n",
              "    <tr>\n",
              "      <th>3</th>\n",
              "      <td>Bream</td>\n",
              "      <td>363.0</td>\n",
              "      <td>29.0</td>\n",
              "      <td>33.5</td>\n",
              "      <td>12.7300</td>\n",
              "      <td>4.4555</td>\n",
              "    </tr>\n",
              "    <tr>\n",
              "      <th>4</th>\n",
              "      <td>Bream</td>\n",
              "      <td>430.0</td>\n",
              "      <td>29.0</td>\n",
              "      <td>34.0</td>\n",
              "      <td>12.4440</td>\n",
              "      <td>5.1340</td>\n",
              "    </tr>\n",
              "  </tbody>\n",
              "</table>\n",
              "</div>\n",
              "    <div class=\"colab-df-buttons\">\n",
              "\n",
              "  <div class=\"colab-df-container\">\n",
              "    <button class=\"colab-df-convert\" onclick=\"convertToInteractive('df-63c2585e-5e5d-4e07-9122-296d7f0b376f')\"\n",
              "            title=\"Convert this dataframe to an interactive table.\"\n",
              "            style=\"display:none;\">\n",
              "\n",
              "  <svg xmlns=\"http://www.w3.org/2000/svg\" height=\"24px\" viewBox=\"0 -960 960 960\">\n",
              "    <path d=\"M120-120v-720h720v720H120Zm60-500h600v-160H180v160Zm220 220h160v-160H400v160Zm0 220h160v-160H400v160ZM180-400h160v-160H180v160Zm440 0h160v-160H620v160ZM180-180h160v-160H180v160Zm440 0h160v-160H620v160Z\"/>\n",
              "  </svg>\n",
              "    </button>\n",
              "\n",
              "  <style>\n",
              "    .colab-df-container {\n",
              "      display:flex;\n",
              "      gap: 12px;\n",
              "    }\n",
              "\n",
              "    .colab-df-convert {\n",
              "      background-color: #E8F0FE;\n",
              "      border: none;\n",
              "      border-radius: 50%;\n",
              "      cursor: pointer;\n",
              "      display: none;\n",
              "      fill: #1967D2;\n",
              "      height: 32px;\n",
              "      padding: 0 0 0 0;\n",
              "      width: 32px;\n",
              "    }\n",
              "\n",
              "    .colab-df-convert:hover {\n",
              "      background-color: #E2EBFA;\n",
              "      box-shadow: 0px 1px 2px rgba(60, 64, 67, 0.3), 0px 1px 3px 1px rgba(60, 64, 67, 0.15);\n",
              "      fill: #174EA6;\n",
              "    }\n",
              "\n",
              "    .colab-df-buttons div {\n",
              "      margin-bottom: 4px;\n",
              "    }\n",
              "\n",
              "    [theme=dark] .colab-df-convert {\n",
              "      background-color: #3B4455;\n",
              "      fill: #D2E3FC;\n",
              "    }\n",
              "\n",
              "    [theme=dark] .colab-df-convert:hover {\n",
              "      background-color: #434B5C;\n",
              "      box-shadow: 0px 1px 3px 1px rgba(0, 0, 0, 0.15);\n",
              "      filter: drop-shadow(0px 1px 2px rgba(0, 0, 0, 0.3));\n",
              "      fill: #FFFFFF;\n",
              "    }\n",
              "  </style>\n",
              "\n",
              "    <script>\n",
              "      const buttonEl =\n",
              "        document.querySelector('#df-63c2585e-5e5d-4e07-9122-296d7f0b376f button.colab-df-convert');\n",
              "      buttonEl.style.display =\n",
              "        google.colab.kernel.accessAllowed ? 'block' : 'none';\n",
              "\n",
              "      async function convertToInteractive(key) {\n",
              "        const element = document.querySelector('#df-63c2585e-5e5d-4e07-9122-296d7f0b376f');\n",
              "        const dataTable =\n",
              "          await google.colab.kernel.invokeFunction('convertToInteractive',\n",
              "                                                    [key], {});\n",
              "        if (!dataTable) return;\n",
              "\n",
              "        const docLinkHtml = 'Like what you see? Visit the ' +\n",
              "          '<a target=\"_blank\" href=https://colab.research.google.com/notebooks/data_table.ipynb>data table notebook</a>'\n",
              "          + ' to learn more about interactive tables.';\n",
              "        element.innerHTML = '';\n",
              "        dataTable['output_type'] = 'display_data';\n",
              "        await google.colab.output.renderOutput(dataTable, element);\n",
              "        const docLink = document.createElement('div');\n",
              "        docLink.innerHTML = docLinkHtml;\n",
              "        element.appendChild(docLink);\n",
              "      }\n",
              "    </script>\n",
              "  </div>\n",
              "\n",
              "\n",
              "<div id=\"df-e81a3007-5c44-4f56-9d72-c7a022d9a9d6\">\n",
              "  <button class=\"colab-df-quickchart\" onclick=\"quickchart('df-e81a3007-5c44-4f56-9d72-c7a022d9a9d6')\"\n",
              "            title=\"Suggest charts.\"\n",
              "            style=\"display:none;\">\n",
              "\n",
              "<svg xmlns=\"http://www.w3.org/2000/svg\" height=\"24px\"viewBox=\"0 0 24 24\"\n",
              "     width=\"24px\">\n",
              "    <g>\n",
              "        <path d=\"M19 3H5c-1.1 0-2 .9-2 2v14c0 1.1.9 2 2 2h14c1.1 0 2-.9 2-2V5c0-1.1-.9-2-2-2zM9 17H7v-7h2v7zm4 0h-2V7h2v10zm4 0h-2v-4h2v4z\"/>\n",
              "    </g>\n",
              "</svg>\n",
              "  </button>\n",
              "\n",
              "<style>\n",
              "  .colab-df-quickchart {\n",
              "      --bg-color: #E8F0FE;\n",
              "      --fill-color: #1967D2;\n",
              "      --hover-bg-color: #E2EBFA;\n",
              "      --hover-fill-color: #174EA6;\n",
              "      --disabled-fill-color: #AAA;\n",
              "      --disabled-bg-color: #DDD;\n",
              "  }\n",
              "\n",
              "  [theme=dark] .colab-df-quickchart {\n",
              "      --bg-color: #3B4455;\n",
              "      --fill-color: #D2E3FC;\n",
              "      --hover-bg-color: #434B5C;\n",
              "      --hover-fill-color: #FFFFFF;\n",
              "      --disabled-bg-color: #3B4455;\n",
              "      --disabled-fill-color: #666;\n",
              "  }\n",
              "\n",
              "  .colab-df-quickchart {\n",
              "    background-color: var(--bg-color);\n",
              "    border: none;\n",
              "    border-radius: 50%;\n",
              "    cursor: pointer;\n",
              "    display: none;\n",
              "    fill: var(--fill-color);\n",
              "    height: 32px;\n",
              "    padding: 0;\n",
              "    width: 32px;\n",
              "  }\n",
              "\n",
              "  .colab-df-quickchart:hover {\n",
              "    background-color: var(--hover-bg-color);\n",
              "    box-shadow: 0 1px 2px rgba(60, 64, 67, 0.3), 0 1px 3px 1px rgba(60, 64, 67, 0.15);\n",
              "    fill: var(--button-hover-fill-color);\n",
              "  }\n",
              "\n",
              "  .colab-df-quickchart-complete:disabled,\n",
              "  .colab-df-quickchart-complete:disabled:hover {\n",
              "    background-color: var(--disabled-bg-color);\n",
              "    fill: var(--disabled-fill-color);\n",
              "    box-shadow: none;\n",
              "  }\n",
              "\n",
              "  .colab-df-spinner {\n",
              "    border: 2px solid var(--fill-color);\n",
              "    border-color: transparent;\n",
              "    border-bottom-color: var(--fill-color);\n",
              "    animation:\n",
              "      spin 1s steps(1) infinite;\n",
              "  }\n",
              "\n",
              "  @keyframes spin {\n",
              "    0% {\n",
              "      border-color: transparent;\n",
              "      border-bottom-color: var(--fill-color);\n",
              "      border-left-color: var(--fill-color);\n",
              "    }\n",
              "    20% {\n",
              "      border-color: transparent;\n",
              "      border-left-color: var(--fill-color);\n",
              "      border-top-color: var(--fill-color);\n",
              "    }\n",
              "    30% {\n",
              "      border-color: transparent;\n",
              "      border-left-color: var(--fill-color);\n",
              "      border-top-color: var(--fill-color);\n",
              "      border-right-color: var(--fill-color);\n",
              "    }\n",
              "    40% {\n",
              "      border-color: transparent;\n",
              "      border-right-color: var(--fill-color);\n",
              "      border-top-color: var(--fill-color);\n",
              "    }\n",
              "    60% {\n",
              "      border-color: transparent;\n",
              "      border-right-color: var(--fill-color);\n",
              "    }\n",
              "    80% {\n",
              "      border-color: transparent;\n",
              "      border-right-color: var(--fill-color);\n",
              "      border-bottom-color: var(--fill-color);\n",
              "    }\n",
              "    90% {\n",
              "      border-color: transparent;\n",
              "      border-bottom-color: var(--fill-color);\n",
              "    }\n",
              "  }\n",
              "</style>\n",
              "\n",
              "  <script>\n",
              "    async function quickchart(key) {\n",
              "      const quickchartButtonEl =\n",
              "        document.querySelector('#' + key + ' button');\n",
              "      quickchartButtonEl.disabled = true;  // To prevent multiple clicks.\n",
              "      quickchartButtonEl.classList.add('colab-df-spinner');\n",
              "      try {\n",
              "        const charts = await google.colab.kernel.invokeFunction(\n",
              "            'suggestCharts', [key], {});\n",
              "      } catch (error) {\n",
              "        console.error('Error during call to suggestCharts:', error);\n",
              "      }\n",
              "      quickchartButtonEl.classList.remove('colab-df-spinner');\n",
              "      quickchartButtonEl.classList.add('colab-df-quickchart-complete');\n",
              "    }\n",
              "    (() => {\n",
              "      let quickchartButtonEl =\n",
              "        document.querySelector('#df-e81a3007-5c44-4f56-9d72-c7a022d9a9d6 button');\n",
              "      quickchartButtonEl.style.display =\n",
              "        google.colab.kernel.accessAllowed ? 'block' : 'none';\n",
              "    })();\n",
              "  </script>\n",
              "</div>\n",
              "    </div>\n",
              "  </div>\n"
            ]
          },
          "metadata": {},
          "execution_count": 1
        }
      ],
      "source": [
        "import pandas as pd\n",
        "fish = pd.read_csv('https://bit.ly/fish_csv_data')\n",
        "fish.head()\n"
      ]
    },
    {
      "cell_type": "code",
      "source": [
        "print(pd.unique(fish['Species']))\n",
        "fish_input = fish[['Weight','Length','Diagonal','Height','Width']].to_numpy()\n",
        "print(fish_input[:5])\n",
        "fish_target = fish['Species'].to_numpy()\n"
      ],
      "metadata": {
        "colab": {
          "base_uri": "https://localhost:8080/"
        },
        "id": "wELOjnsFoCC6",
        "outputId": "b94f4fcd-e69b-490b-ae5d-85450899983e"
      },
      "execution_count": null,
      "outputs": [
        {
          "output_type": "stream",
          "name": "stdout",
          "text": [
            "['Bream' 'Roach' 'Whitefish' 'Parkki' 'Perch' 'Pike' 'Smelt']\n",
            "[[242.      25.4     30.      11.52     4.02  ]\n",
            " [290.      26.3     31.2     12.48     4.3056]\n",
            " [340.      26.5     31.1     12.3778   4.6961]\n",
            " [363.      29.      33.5     12.73     4.4555]\n",
            " [430.      29.      34.      12.444    5.134 ]]\n"
          ]
        }
      ]
    },
    {
      "cell_type": "code",
      "source": [
        "from sklearn.model_selection import train_test_split\n",
        "train_input, test_input, train_target, test_target = train_test_split(fish_input, fish_target, random_state=2)"
      ],
      "metadata": {
        "id": "E7LO51Moo5IB"
      },
      "execution_count": 25,
      "outputs": []
    },
    {
      "cell_type": "code",
      "source": [
        "from sklearn.preprocessing import StandardScaler\n",
        "ss = StandardScaler()\n",
        "ss.fit(train_input)\n",
        "train_scaled = ss.transform(train_input)\n",
        "test_scaled = ss.transform(test_input)"
      ],
      "metadata": {
        "id": "Juvt9b21pSep"
      },
      "execution_count": 24,
      "outputs": []
    },
    {
      "cell_type": "code",
      "source": [
        "import numpy as np\n",
        "from sklearn.neighbors import KNeighborsClassifier\n",
        "kn = KNeighborsClassifier(n_neighbors=3)\n",
        "kn.fit(train_scaled, train_target)\n",
        "print(kn.score,(train_scaled, train_target))\n",
        "print(kn.score(test_scaled, test_target))"
      ],
      "metadata": {
        "colab": {
          "base_uri": "https://localhost:8080/"
        },
        "id": "TgqotS1mppkI",
        "outputId": "ae86ef13-8037-4e60-96db-0cde583651d8"
      },
      "execution_count": null,
      "outputs": [
        {
          "output_type": "stream",
          "name": "stdout",
          "text": [
            "<bound method ClassifierMixin.score of KNeighborsClassifier(n_neighbors=3)> (array([[-1.02496425e+00, -1.49667402e+00, -1.49074008e+00,\n",
            "        -1.55602098e+00, -1.74077250e+00],\n",
            "       [-7.19754934e-01, -7.80013062e-01, -7.48988165e-01,\n",
            "        -9.04206072e-02, -8.01941460e-01],\n",
            "       [-4.51017175e-01, -8.19666790e-02, -1.77753935e-01,\n",
            "        -3.70150570e-01, -9.71138713e-02],\n",
            "       [-8.34928260e-01, -8.07934918e-01, -9.10979962e-01,\n",
            "        -8.20021792e-01, -6.83904830e-01],\n",
            "       [-1.02167358e+00, -1.45013759e+00, -1.44811066e+00,\n",
            "        -1.50216348e+00, -1.80936368e+00],\n",
            "       [ 1.06268939e+00,  1.91909962e+00,  1.80025116e+00,\n",
            "        -2.53158460e-01,  6.11220894e-01],\n",
            "       [ 8.43311624e-01,  8.95298258e-01,  7.85670960e-01,\n",
            "         4.07595610e-01,  1.18076344e+00],\n",
            "       [ 3.22289438e-01,  3.36861151e-01,  5.21368555e-01,\n",
            "         1.27582788e+00,  2.88445620e-01],\n",
            "       [-3.02937185e-01, -3.54302534e-02,  4.39190497e-02,\n",
            "        -5.02502695e-02,  2.64872791e-01],\n",
            "       [ 1.28206715e+00,  8.02225406e-01,  9.81766293e-01,\n",
            "         1.85123712e+00,  1.08405735e+00],\n",
            "       [-7.06043824e-01, -5.93867360e-01, -6.46677557e-01,\n",
            "        -7.07302636e-01, -3.71076140e-01],\n",
            "       [-3.85203846e-01, -1.84346815e-01, -7.23625451e-03,\n",
            "         6.24282364e-01, -1.68407305e-01],\n",
            "       [ 9.09124953e-01,  8.02225406e-01,  9.73240409e-01,\n",
            "         1.76609794e+00,  8.84608216e-01],\n",
            "       [-8.59608258e-01, -8.54471343e-01, -8.34247005e-01,\n",
            "        -7.97377421e-01, -8.57366355e-01],\n",
            "       [ 7.33622743e-01,  1.08144396e+00,  9.64714525e-01,\n",
            "         5.36675382e-01,  9.71712694e-01],\n",
            "       [-7.74599375e-01, -8.73085913e-01, -9.28031730e-01,\n",
            "        -8.14720587e-01, -5.69950325e-01],\n",
            "       [ 1.55628935e+00,  2.26346917e+00,  2.13276064e+00,\n",
            "         3.15985074e-02,  1.06841879e+00],\n",
            "       [ 5.27956090e-01,  6.16079704e-01,  8.02722728e-01,\n",
            "         1.44882539e+00,  7.22473148e-01],\n",
            "       [-1.02194780e+00, -1.50598130e+00, -1.50779184e+00,\n",
            "        -1.53202846e+00, -1.74537207e+00],\n",
            "       [-1.02754977e-01,  1.03490753e+00,  9.30610989e-01,\n",
            "        -5.46552736e-01, -1.93130029e-01],\n",
            "       [-1.03044869e+00, -1.63628329e+00, -1.64420599e+00,\n",
            "        -1.61072393e+00, -1.87737992e+00],\n",
            "       [-6.51199384e-01, -3.14648807e-01, -3.90901036e-01,\n",
            "        -5.51351240e-01, -2.80521980e-01],\n",
            "       [-1.16466087e-01,  4.29934002e-01,  6.15153280e-01,\n",
            "         1.17106053e+00,  4.36896948e-01],\n",
            "       [ 1.47402269e+00,  1.03490753e+00,  1.19491339e+00,\n",
            "         2.11339541e+00,  1.14609413e+00],\n",
            "       [ 1.25464493e+00,  7.09152555e-01,  6.15153280e-01,\n",
            "         6.17061757e-01,  2.00242027e+00],\n",
            "       [ 2.37895596e+00,  2.66368243e+00,  2.52495130e+00,\n",
            "         4.33781735e-01,  1.53625320e+00],\n",
            "       [ 1.14495605e+00,  8.39454547e-01,  8.11248612e-01,\n",
            "         6.79396616e-01,  1.29977748e+00],\n",
            "       [ 3.47584478e+00,  3.35242153e+00,  3.23259968e+00,\n",
            "         4.62504212e-01,  1.82090949e+00],\n",
            "       [-8.15732705e-01, -6.86940211e-01, -7.74565817e-01,\n",
            "        -8.46802017e-01, -8.85941223e-01],\n",
            "       [-2.26154968e-01,  7.09152555e-01,  7.43041540e-01,\n",
            "        -6.51571434e-01,  4.11033994e-02],\n",
            "       [ 8.29600514e-01,  6.16079704e-01,  7.77145076e-01,\n",
            "         1.64650092e+00,  6.08001190e-01],\n",
            "       [-3.08421629e-01, -1.28503105e-01, -1.18072747e-01,\n",
            "        -9.31169097e-02, -3.75493570e-02],\n",
            "       [ 8.70733845e-01,  5.23006853e-01,  7.00412120e-01,\n",
            "         1.38756448e+00,  5.59130691e-01],\n",
            "       [-9.94799804e-01, -1.21745546e+00, -1.26906709e+00,\n",
            "        -1.35160469e+00, -1.29116390e+00],\n",
            "       [-9.39132697e-01, -1.15230447e+00, -1.20086002e+00,\n",
            "        -1.13425529e+00, -1.08142322e+00],\n",
            "       [ 1.96762266e+00,  1.45373536e+00,  1.31427577e+00,\n",
            "         8.51068827e-01,  1.78440035e+00],\n",
            "       [-5.55221612e-01, -2.21575956e-01, -3.05642196e-01,\n",
            "        -5.36612976e-01, -3.61876988e-01],\n",
            "       [-3.63266070e-01,  5.76425977e-02, -5.83915587e-02,\n",
            "        -2.21077030e-01, -6.25020589e-02],\n",
            "       [ 6.23933862e-01,  5.69543279e-01,  7.25989772e-01,\n",
            "         1.56410375e+00,  4.71968718e-01],\n",
            "       [-7.19754934e-01, -5.00794509e-01, -5.61418716e-01,\n",
            "        -7.19298898e-01, -4.53006095e-01],\n",
            "       [-8.97999366e-01, -1.18022632e+00, -1.15823060e+00,\n",
            "        -4.43384889e-01, -1.14208013e+00],\n",
            "       [-6.51199384e-01, -4.35643513e-01, -5.01737528e-01,\n",
            "        -6.47732631e-01, -3.92636655e-01],\n",
            "       [-6.51199384e-01, -5.47330934e-01, -5.10263412e-01,\n",
            "         2.16729381e-01, -6.64529115e-01],\n",
            "       [-2.53577189e-01, -1.00581249e-01,  9.50743538e-02,\n",
            "         8.43642570e-01, -4.20242810e-03],\n",
            "       [-7.47177155e-01, -5.93867360e-01, -6.46677557e-01,\n",
            "        -7.07302636e-01, -4.35757684e-01],\n",
            "       [-3.08421629e-01, -8.19666790e-02, -6.69174427e-02,\n",
            "        -1.46814460e-01, -3.70319046e-02],\n",
            "       [ 7.33622743e-01,  5.69543279e-01,  7.34515656e-01,\n",
            "         1.29922630e+00,  8.13372277e-01],\n",
            "       [-6.78621604e-01, -5.00794509e-01, -5.61418716e-01,\n",
            "        -6.65601347e-01, -4.53006095e-01],\n",
            "       [-7.19754934e-01, -5.00794509e-01, -5.61418716e-01,\n",
            "        -6.11903797e-01, -5.20562373e-01],\n",
            "       [-3.00194963e-01, -2.21575956e-01, -1.77753935e-01,\n",
            "         5.25570271e-01, -9.71138713e-02],\n",
            "       [ 3.22289438e-01,  3.08939296e-01,  5.21368555e-01,\n",
            "         1.24274104e+00,  3.71697953e-01],\n",
            "       [ 1.69340045e+00,  1.17451681e+00,  1.14375809e+00,\n",
            "         8.14851543e-01,  1.27183505e+00],\n",
            "       [ 1.55628935e+00,  1.26758966e+00,  1.39953461e+00,\n",
            "         2.01893342e+00,  1.18300573e+00],\n",
            "       [-1.04882158e+00, -6.40403786e-01, -6.21099905e-01,\n",
            "        -5.28455519e-01, -5.52701913e-01],\n",
            "       [ 2.53733887e-01,  3.36861151e-01,  5.21368555e-01,\n",
            "         1.25101275e+00,  4.54950286e-01],\n",
            "       [ 1.96762266e+00,  1.36066251e+00,  1.23754281e+00,\n",
            "         9.16808339e-01,  1.46927187e+00],\n",
            "       [-1.71310528e-01,  2.43788300e-01,  1.29177890e-01,\n",
            "        -2.67873874e-01,  2.63722897e-01],\n",
            "       [ 9.25578285e-01,  7.09152555e-01,  8.96507453e-01,\n",
            "         1.73063470e+00,  1.02173309e+00],\n",
            "       [ 1.48773380e+00,  1.12798039e+00,  1.29722400e+00,\n",
            "         2.27729862e+00,  1.40102566e+00],\n",
            "       [-1.01207580e+00, -1.39429388e+00, -1.41400712e+00,\n",
            "        -1.45278459e+00, -1.75008664e+00],\n",
            "       [-4.31821621e-01, -3.14648807e-01, -3.90901036e-01,\n",
            "        -3.41588043e-01, -3.39166579e-01],\n",
            "       [-7.33466044e-01, -5.93867360e-01, -6.46677557e-01,\n",
            "        -6.55890088e-01, -5.78057078e-01],\n",
            "       [-8.84288256e-01, -1.10576804e+00, -1.08149764e+00,\n",
            "        -5.05148497e-01, -1.14915198e+00],\n",
            "       [ 1.41917825e+00,  1.17451681e+00,  1.05849925e+00,\n",
            "         6.72267409e-01,  1.67429799e+00],\n",
            "       [-2.09701636e-01,  5.76425977e-02,  6.09708177e-02,\n",
            "        -2.26522440e-03,  2.11977663e-01],\n",
            "       [-9.61070473e-01, -1.27329917e+00, -1.31169651e+00,\n",
            "        -1.20189135e+00, -1.33026030e+00],\n",
            "       [-1.01536647e+00, -1.33845017e+00, -1.38842947e+00,\n",
            "        -1.48774512e+00, -1.75767594e+00],\n",
            "       [ 8.70733845e-01,  5.23006853e-01,  7.17463888e-01,\n",
            "         1.40529610e+00,  5.08592845e-01],\n",
            "       [ 8.70733845e-01,  8.95298258e-01,  7.94196844e-01,\n",
            "         4.67759717e-01,  1.12211884e+00],\n",
            "       [ 8.29600514e-01,  8.48761832e-01,  7.60093308e-01,\n",
            "         4.78270727e-01,  1.46674210e+00],\n",
            "       [-3.63266070e-01,  1.11061721e-02, -1.01020979e-01,\n",
            "        -3.43918745e-01,  1.45628773e-01],\n",
            "       [-9.94251360e-01, -1.15230447e+00, -1.18380825e+00,\n",
            "        -1.33803178e+00, -1.39925395e+00],\n",
            "       [ 3.60680546e-01,  5.04392283e-01,  3.33799107e-01,\n",
            "         2.83817044e-01,  9.80336900e-01],\n",
            "       [ 1.19980049e+00,  1.17451681e+00,  1.05849925e+00,\n",
            "         5.36309781e-01,  1.33220449e+00],\n",
            "       [ 1.85178336e-01,  2.43788300e-01,  4.27583831e-01,\n",
            "         1.19208255e+00,  3.05234074e-01],\n",
            "       [-2.26154968e-01,  9.23220113e-01,  8.28300380e-01,\n",
            "        -5.71139359e-01, -1.68522295e-01],\n",
            "       [-7.19754934e-01, -6.86940211e-01, -6.72255209e-01,\n",
            "        -5.87682774e-01, -4.24718700e-01],\n",
            "       [-6.07323831e-01, -3.70492517e-01, -2.88590427e-01,\n",
            "        -4.27892574e-01, -3.91946718e-01],\n",
            "       [-8.29443816e-01, -7.80013062e-01, -8.42772889e-01,\n",
            "        -7.20258599e-01, -7.25990954e-01],\n",
            "       [-1.02222202e+00, -1.52459587e+00, -1.54189538e+00,\n",
            "        -1.50625364e+00, -1.68626752e+00],\n",
            "       [-7.47177155e-01, -5.00794509e-01, -5.61418716e-01,\n",
            "        -7.46147673e-01, -1.82780982e-01],\n",
            "       [ 3.33873367e+00,  3.03597383e+00,  2.89156432e+00,\n",
            "         1.85561952e-01,  1.05278023e+00],\n",
            "       [-5.00377172e-01, -3.61185232e-01, -2.80064543e-01,\n",
            "        -3.17869721e-01, -1.06772982e-01],\n",
            "       [-8.56866036e-01, -9.28929624e-01, -9.87712918e-01,\n",
            "        -9.59681123e-01, -7.88487699e-01],\n",
            "       [ 4.75853872e-01,  6.62616130e-01,  5.46946207e-01,\n",
            "         3.35572343e-01,  1.19277983e+00],\n",
            "       [-2.53577189e-01, -1.28503105e-01, -7.54433267e-02,\n",
            "         2.03105968e-02,  1.05727448e-01],\n",
            "       [-8.15732705e-01, -7.24169352e-01, -7.91617585e-01,\n",
            "        -8.34097406e-01, -7.33695245e-01],\n",
            "       [-6.64910494e-01, -6.21789215e-01, -5.86996369e-01,\n",
            "        -5.71966760e-02, -5.85588885e-01],\n",
            "       [-1.02962602e+00, -1.56182501e+00, -1.57599892e+00,\n",
            "        -1.61310034e+00, -1.81942525e+00],\n",
            "       [ 1.73453378e+00,  1.17451681e+00,  1.04997337e+00,\n",
            "         8.20975349e-01,  1.81079042e+00],\n",
            "       [-1.02139936e+00, -1.45013759e+00, -1.44811066e+00,\n",
            "        -1.50216348e+00, -1.74157742e+00],\n",
            "       [-6.64910494e-01, -4.54258083e-01, -4.33530456e-01,\n",
            "        -5.11363702e-01, -5.67995505e-01],\n",
            "       [-6.92332714e-01, -5.00794509e-01, -5.61418716e-01,\n",
            "        -6.11903797e-01, -4.53006095e-01],\n",
            "       [-5.00377172e-01, -4.07721658e-01, -3.65323384e-01,\n",
            "         3.55977412e-01, -3.73318434e-01],\n",
            "       [-5.82643833e-01, -6.21789215e-01, -5.86996369e-01,\n",
            "         1.38947908e-01, -5.18895027e-01],\n",
            "       [-1.02825491e+00, -1.57113230e+00, -1.57599892e+00,\n",
            "        -1.55743768e+00, -1.81275587e+00],\n",
            "       [ 4.31978319e-01,  3.36861151e-01,  3.33799107e-01,\n",
            "         4.46966197e-01,  1.29310809e+00],\n",
            "       [ 1.62484490e+00,  1.26758966e+00,  1.34837931e+00,\n",
            "         2.25015279e+00,  1.39964578e+00],\n",
            "       [-8.10248261e-01, -7.05554781e-01, -6.72255209e-01,\n",
            "        -7.24645803e-01, -6.54467541e-01],\n",
            "       [-3.35843850e-01,  1.11061721e-02, -1.01020979e-01,\n",
            "        -3.70333370e-01,  1.27010152e-02],\n",
            "       [-5.55221612e-01, -2.02961385e-01, -1.86279819e-01,\n",
            "        -3.88750487e-01, -2.33951269e-01],\n",
            "       [-2.26154968e-01,  1.22793593e-01,  1.28962952e-03,\n",
            "        -2.74820280e-01,  1.85415109e-01],\n",
            "       [ 1.30333896e-01,  1.50715449e-01,  3.33799107e-01,\n",
            "         8.35416562e-01,  4.72083708e-01],\n",
            "       [-2.26154968e-01, -7.50839807e-03, -1.18072747e-01,\n",
            "        -1.06232822e-01,  4.73981033e-01],\n",
            "       [-8.34928260e-01, -7.98627632e-01, -7.57514049e-01,\n",
            "        -7.34014312e-01, -8.09818234e-01],\n",
            "       [ 1.41917825e+00,  1.08144396e+00,  9.64714525e-01,\n",
            "         5.36675382e-01,  1.82861378e+00],\n",
            "       [ 1.69340045e+00,  1.45373536e+00,  1.28869812e+00,\n",
            "         7.18607253e-01,  1.70431022e+00],\n",
            "       [ 1.57000046e+00,  1.03490753e+00,  1.18638751e+00,\n",
            "         2.12415777e+00,  1.13787239e+00],\n",
            "       [-8.02021595e-01, -9.01007769e-01, -8.76876426e-01,\n",
            "        -3.15950319e-01, -9.42860981e-01],\n",
            "       [-6.10066053e-01, -4.54258083e-01, -4.33530456e-01,\n",
            "        -5.45638735e-01, -2.94895656e-01],\n",
            "       [-1.01536647e+00, -1.41290845e+00, -1.42253300e+00,\n",
            "        -1.53038326e+00, -1.67844824e+00],\n",
            "       [-5.82643833e-01, -3.61185232e-01, -4.33530456e-01,\n",
            "        -5.74201261e-01, -3.38016685e-01],\n",
            "       [ 2.06450144e-02,  2.43788300e-01,  4.19057947e-01,\n",
            "         8.87057611e-01,  2.16807218e-01],\n",
            "       [-3.22132740e-01,  1.11061721e-02, -1.01020979e-01,\n",
            "        -3.96747995e-01,  1.27010152e-02],\n",
            "       [-9.07597144e-01, -1.04061705e+00, -1.09854941e+00,\n",
            "        -9.58675723e-01, -9.66663789e-01],\n",
            "       [-6.37488273e-01, -5.00794509e-01, -4.59108108e-01,\n",
            "        -6.81710612e-01, -3.21113242e-01],\n",
            "       [ 6.51356082e-01,  6.62616130e-01,  8.19774496e-01,\n",
            "         1.53890017e+00,  5.56083472e-01],\n",
            "       [-1.03264247e+00, -1.76658528e+00, -1.81472367e+00,\n",
            "        -1.52544765e+00, -1.67016900e+00],\n",
            "       [ 5.96511641e-01,  4.29934002e-01,  6.06627396e-01,\n",
            "         1.51954620e+00,  7.28510092e-01]]), array(['Smelt', 'Parkki', 'Perch', 'Perch', 'Smelt', 'Pike', 'Perch',\n",
            "       'Bream', 'Roach', 'Bream', 'Perch', 'Bream', 'Bream', 'Roach',\n",
            "       'Perch', 'Perch', 'Pike', 'Bream', 'Smelt', 'Pike', 'Smelt',\n",
            "       'Perch', 'Bream', 'Bream', 'Perch', 'Pike', 'Whitefish', 'Pike',\n",
            "       'Perch', 'Pike', 'Bream', 'Whitefish', 'Bream', 'Smelt', 'Perch',\n",
            "       'Perch', 'Perch', 'Perch', 'Bream', 'Perch', 'Parkki', 'Perch',\n",
            "       'Parkki', 'Bream', 'Perch', 'Whitefish', 'Bream', 'Perch', 'Perch',\n",
            "       'Parkki', 'Bream', 'Whitefish', 'Bream', 'Roach', 'Bream', 'Perch',\n",
            "       'Perch', 'Bream', 'Bream', 'Smelt', 'Perch', 'Perch', 'Parkki',\n",
            "       'Perch', 'Whitefish', 'Perch', 'Smelt', 'Bream', 'Perch', 'Perch',\n",
            "       'Perch', 'Smelt', 'Perch', 'Perch', 'Bream', 'Pike', 'Roach',\n",
            "       'Roach', 'Perch', 'Smelt', 'Perch', 'Pike', 'Roach', 'Perch',\n",
            "       'Perch', 'Roach', 'Perch', 'Parkki', 'Smelt', 'Perch', 'Smelt',\n",
            "       'Roach', 'Perch', 'Parkki', 'Parkki', 'Smelt', 'Whitefish',\n",
            "       'Bream', 'Roach', 'Perch', 'Roach', 'Perch', 'Bream', 'Perch',\n",
            "       'Roach', 'Perch', 'Perch', 'Bream', 'Parkki', 'Roach', 'Smelt',\n",
            "       'Perch', 'Bream', 'Perch', 'Perch', 'Roach', 'Bream', 'Perch',\n",
            "       'Bream'], dtype=object))\n",
            "0.8\n"
          ]
        }
      ]
    },
    {
      "cell_type": "code",
      "source": [
        "print(kn.classes_)\n",
        "print(kn.predict(test_scaled[:5]))"
      ],
      "metadata": {
        "colab": {
          "base_uri": "https://localhost:8080/"
        },
        "id": "pmybzVCFqWjB",
        "outputId": "6eca95e6-108a-4996-bb1c-ba4738870162"
      },
      "execution_count": 23,
      "outputs": [
        {
          "output_type": "stream",
          "name": "stdout",
          "text": [
            "['Iris-setosa' 'Iris-versicolor' 'Iris-virginica']\n",
            "['Iris-versicolor' 'Iris-versicolor' 'Iris-versicolor' 'Iris-setosa'\n",
            " 'Iris-virginica']\n"
          ]
        }
      ]
    },
    {
      "cell_type": "code",
      "source": [
        "proba = kn.predict_proba(test_scaled[:5])\n",
        "print(np.round(proba, decimals=4))"
      ],
      "metadata": {
        "colab": {
          "base_uri": "https://localhost:8080/"
        },
        "id": "ZGekQq4pqqAQ",
        "outputId": "a2b70ff1-371f-43aa-e437-c00632602c40"
      },
      "execution_count": 22,
      "outputs": [
        {
          "output_type": "stream",
          "name": "stdout",
          "text": [
            "[[0.  1.  0. ]\n",
            " [0.  1.  0. ]\n",
            " [0.  0.8 0.2]\n",
            " [1.  0.  0. ]\n",
            " [0.  0.  1. ]]\n"
          ]
        }
      ]
    },
    {
      "cell_type": "code",
      "source": [
        "distances, indexes = kn.kneighbors(test_scaled[3:4])\n",
        "print(train_target[indexes])"
      ],
      "metadata": {
        "colab": {
          "base_uri": "https://localhost:8080/"
        },
        "id": "TdgIv5dJq61p",
        "outputId": "4a97cedf-83cc-4506-fbdd-b7ac53b69633"
      },
      "execution_count": 21,
      "outputs": [
        {
          "output_type": "stream",
          "name": "stdout",
          "text": [
            "[['Parkki' 'Bream' 'Whitefish' 'Perch' 'Perch']]\n"
          ]
        }
      ]
    },
    {
      "cell_type": "code",
      "source": [],
      "metadata": {
        "id": "9Q7rNoYbrNyu"
      },
      "execution_count": 21,
      "outputs": []
    },
    {
      "cell_type": "code",
      "source": [
        "import numpy as np\n",
        "import matplotlib.pyplot as plt\n",
        "z = np.arange(-5, 5, 0.1)\n",
        "phi = 1 / (1 + np.exp(-z))\n",
        "plt.plot(z, phi)\n",
        "plt.xlabel('z')\n",
        "plt.ylabel('phi')\n",
        "plt.show()"
      ],
      "metadata": {
        "colab": {
          "base_uri": "https://localhost:8080/",
          "height": 449
        },
        "id": "t1RlEXRCsky2",
        "outputId": "f416331a-a57d-4e14-bc68-ed171e2ea4d1"
      },
      "execution_count": 19,
      "outputs": [
        {
          "output_type": "display_data",
          "data": {
            "text/plain": [
              "<Figure size 640x480 with 1 Axes>"
            ],
            "image/png": "[encoded data removed]"
          },
          "metadata": {}
        }
      ]
    },
    {
      "cell_type": "code",
      "source": [
        "bream_smelt_indexes = (train_target == 'Bream') | (train_target == 'Smelt')\n",
        "train_bream_smelt = train_scaled[bream_smelt_indexes]\n",
        "target_bream_smelt = train_target[bream_smelt_indexes]"
      ],
      "metadata": {
        "id": "eRIlzdp-uM86"
      },
      "execution_count": 10,
      "outputs": []
    },
    {
      "cell_type": "code",
      "source": [
        "from sklearn.linear_model import LogisticRegression\n",
        "lr = LogisticRegression()\n",
        "lr.fit(train_bream_smelt, target_bream_smelt)\n",
        "print(lr.predict(train_bream_smelt[:5]))"
      ],
      "metadata": {
        "id": "Ce8OtEMMuNXD"
      },
      "execution_count": null,
      "outputs": []
    },
    {
      "cell_type": "code",
      "source": [
        "print(lr.predict_proba(train_bream_smelt[:5]))"
      ],
      "metadata": {
        "colab": {
          "base_uri": "https://localhost:8080/"
        },
        "id": "PCnHPqKZvPNR",
        "outputId": "6d33a523-9205-420c-b635-589c863bb598"
      },
      "execution_count": null,
      "outputs": [
        {
          "output_type": "stream",
          "name": "stdout",
          "text": [
            "[[0.02598921 0.97401079]\n",
            " [0.02766772 0.97233228]\n",
            " [0.98265435 0.01734565]\n",
            " [0.99813377 0.00186623]\n",
            " [0.88066854 0.11933146]]\n"
          ]
        }
      ]
    },
    {
      "cell_type": "code",
      "source": [
        "print(lr.classes_)"
      ],
      "metadata": {
        "colab": {
          "base_uri": "https://localhost:8080/"
        },
        "id": "GKA8FZb4vZGY",
        "outputId": "428849ba-54de-4b3c-cf03-36b72be67b20"
      },
      "execution_count": null,
      "outputs": [
        {
          "output_type": "stream",
          "name": "stdout",
          "text": [
            "['Bream' 'Smelt']\n"
          ]
        }
      ]
    },
    {
      "cell_type": "code",
      "source": [
        "print(lr.coef_, lr.intercept_)"
      ],
      "metadata": {
        "colab": {
          "base_uri": "https://localhost:8080/"
        },
        "id": "u5PWVscsvecp",
        "outputId": "f565128c-9fcf-4a32-f937-f40e5c233515"
      },
      "execution_count": null,
      "outputs": [
        {
          "output_type": "stream",
          "name": "stdout",
          "text": [
            "[[-0.43488363 -0.63524582 -0.72026555 -1.02550146 -0.76714014]] [-1.77760224]\n"
          ]
        }
      ]
    },
    {
      "cell_type": "code",
      "source": [
        "decisions = lr.decision_function(train_bream_smelt[:5])\n",
        "print(decisions)"
      ],
      "metadata": {
        "colab": {
          "base_uri": "https://localhost:8080/"
        },
        "id": "GsbDiHVEvovq",
        "outputId": "4ce30260-2a8b-4110-a6ca-ad64beff5a7c"
      },
      "execution_count": null,
      "outputs": [
        {
          "output_type": "stream",
          "name": "stdout",
          "text": [
            "[ 3.62374081  3.55943129 -4.03691565 -6.28196531 -1.9987763 ]\n"
          ]
        }
      ]
    },
    {
      "cell_type": "code",
      "source": [
        "from scipy.special import expit\n",
        "print(expit(decisions))"
      ],
      "metadata": {
        "colab": {
          "base_uri": "https://localhost:8080/"
        },
        "id": "qdeshijIvo5r",
        "outputId": "4782dd1b-3e0c-401e-c4ea-f21859f55359"
      },
      "execution_count": null,
      "outputs": [
        {
          "output_type": "stream",
          "name": "stdout",
          "text": [
            "[0.97401079 0.97233228 0.01734565 0.00186623 0.11933146]\n"
          ]
        }
      ]
    },
    {
      "cell_type": "code",
      "source": [
        "lr = LogisticRegression(C=20, max_iter=1000)\n",
        "lr.fit(train_scaled, train_target)\n",
        "print(lr.score(train_scaled, train_target))\n",
        "print(lr.score(test_scaled, test_target))"
      ],
      "metadata": {
        "colab": {
          "base_uri": "https://localhost:8080/"
        },
        "id": "rYrG1yKmvo-a",
        "outputId": "4ca2c83b-0689-4334-b990-ab9c4532e8e7"
      },
      "execution_count": null,
      "outputs": [
        {
          "output_type": "stream",
          "name": "stdout",
          "text": [
            "0.907563025210084\n",
            "0.925\n"
          ]
        }
      ]
    },
    {
      "cell_type": "code",
      "source": [
        "print(lr.predict(test_scaled[:5]))"
      ],
      "metadata": {
        "colab": {
          "base_uri": "https://localhost:8080/"
        },
        "id": "p0MtzUoQ0h5G",
        "outputId": "74700a0a-eca9-400b-9d1e-f1fc8ae5a523"
      },
      "execution_count": null,
      "outputs": [
        {
          "output_type": "stream",
          "name": "stdout",
          "text": [
            "['Bream' 'Bream' 'Smelt' 'Bream' 'Pike']\n"
          ]
        }
      ]
    },
    {
      "cell_type": "code",
      "source": [
        "proba = lr.predict_proba(test_scaled[:5])\n",
        "print(np.round(proba, decimals=3))"
      ],
      "metadata": {
        "colab": {
          "base_uri": "https://localhost:8080/"
        },
        "id": "1T8rWrwq0nYD",
        "outputId": "5222a108-d3df-4a99-dc0a-ff65d1aada8c"
      },
      "execution_count": null,
      "outputs": [
        {
          "output_type": "stream",
          "name": "stdout",
          "text": [
            "[[0.986 0.01  0.    0.    0.    0.    0.004]\n",
            " [0.94  0.042 0.    0.    0.003 0.    0.016]\n",
            " [0.    0.001 0.021 0.    0.001 0.976 0.   ]\n",
            " [0.965 0.014 0.    0.    0.    0.    0.02 ]\n",
            " [0.    0.    0.171 0.801 0.025 0.001 0.002]]\n"
          ]
        }
      ]
    },
    {
      "cell_type": "code",
      "source": [
        "print(lr.classes_)"
      ],
      "metadata": {
        "colab": {
          "base_uri": "https://localhost:8080/"
        },
        "id": "Ej6Iwk9c191D",
        "outputId": "14c1e49b-5e52-42b5-8e3f-b6c8676cff91"
      },
      "execution_count": null,
      "outputs": [
        {
          "output_type": "stream",
          "name": "stdout",
          "text": [
            "['Bream' 'Parkki' 'Perch' 'Pike' 'Roach' 'Smelt' 'Whitefish']\n"
          ]
        }
      ]
    },
    {
      "cell_type": "code",
      "source": [
        "print(lr.coef_.shape, lr.intercept_.shape)"
      ],
      "metadata": {
        "colab": {
          "base_uri": "https://localhost:8080/"
        },
        "id": "fLTURa8z2D7P",
        "outputId": "e8cdb9c6-1624-447f-cb5f-6a923cb6c5d5"
      },
      "execution_count": null,
      "outputs": [
        {
          "output_type": "stream",
          "name": "stdout",
          "text": [
            "(7, 5) (7,)\n"
          ]
        }
      ]
    },
    {
      "cell_type": "code",
      "source": [
        "decision = lr.decision_function(test_scaled[:5])\n",
        "print(np.round(decision, decimals=2))"
      ],
      "metadata": {
        "colab": {
          "base_uri": "https://localhost:8080/"
        },
        "id": "4_3CxZY32D-0",
        "outputId": "d0fc6c80-33b0-4785-e80a-c6118235dc25"
      },
      "execution_count": null,
      "outputs": [
        {
          "output_type": "stream",
          "name": "stdout",
          "text": [
            "[[  9.53   4.97  -5.02  -1.18   0.27 -12.61   4.04]\n",
            " [  7.78   4.67  -4.14  -2.3    1.89 -11.58   3.68]\n",
            " [-10.84   1.94   4.81  -4.24   1.87   8.64  -2.16]\n",
            " [  9.63   5.41  -3.09  -3.35   1.74 -16.11   5.76]\n",
            " [ -4.11  -8.     4.42   5.96   2.49  -0.66  -0.09]]\n"
          ]
        }
      ]
    },
    {
      "cell_type": "code",
      "source": [
        "from scipy.special import softmax\n",
        "proba = softmax(decision, axis=1)\n",
        "print(np.round(proba, decimals=3))"
      ],
      "metadata": {
        "colab": {
          "base_uri": "https://localhost:8080/"
        },
        "id": "TlX3cZZZ2EE7",
        "outputId": "87be6b5e-913a-4747-acfd-a6383f56ceae"
      },
      "execution_count": null,
      "outputs": [
        {
          "output_type": "stream",
          "name": "stdout",
          "text": [
            "[[0.986 0.01  0.    0.    0.    0.    0.004]\n",
            " [0.94  0.042 0.    0.    0.003 0.    0.016]\n",
            " [0.    0.001 0.021 0.    0.001 0.976 0.   ]\n",
            " [0.965 0.014 0.    0.    0.    0.    0.02 ]\n",
            " [0.    0.    0.171 0.801 0.025 0.001 0.002]]\n"
          ]
        }
      ]
    },
    {
      "cell_type": "code",
      "source": [
        "dic = {}\n",
        "for i in range(1,100):\n",
        "  lr = LogisticRegression(C=i, max_iter=1000)\n",
        "  lr.fit(train_scaled, train_target)\n",
        "  result1 = []\n",
        "  result2 = []\n",
        "  seq = []\n",
        "  fr = []\n",
        "  #print(lr.score(train_scaled, train_target))\n",
        "  #print(lr.score(test_scaled, test_target))\n",
        "  result1.append(lr.score(train_scaled, train_target))\n",
        "  dic[i] = lr.score(test_scaled, test_target)\n",
        "  result2.append(lr.score(test_scaled, test_target))\n",
        "\n",
        "\n",
        "\n",
        "\n",
        "\n",
        "\n",
        "print(\"------------------------------------------------------\")\n",
        "print(max(result1))\n",
        "print(max(result2))\n",
        "print(seq)"
      ],
      "metadata": {
        "colab": {
          "base_uri": "https://localhost:8080/"
        },
        "id": "-_r0z_9v2EK7",
        "outputId": "4aac1f6f-aa27-4b9b-a2d8-4171bb321caa"
      },
      "execution_count": null,
      "outputs": [
        {
          "output_type": "stream",
          "name": "stdout",
          "text": [
            "------------------------------------------------------\n",
            "0.9747899159663865\n",
            "0.975\n",
            "[]\n"
          ]
        }
      ]
    },
    {
      "cell_type": "code",
      "source": [
        "#--------------------------------------------------------------------------------"
      ],
      "metadata": {
        "id": "KgW1djac2EN9"
      },
      "execution_count": null,
      "outputs": []
    },
    {
      "cell_type": "code",
      "source": [
        "import pandas as pd\n",
        "fish = pd.read_csv('https://bit.ly/fish_csv_data')\n",
        "fish_input = fish[['Weight','Length', 'Diagonal' , 'Height', 'Width']].to_numpy()\n",
        "fish_target = fish['Species'].to_numpy()"
      ],
      "metadata": {
        "id": "QmU4-oQh2ETf"
      },
      "execution_count": 17,
      "outputs": []
    },
    {
      "cell_type": "code",
      "source": [
        "from sklearn.model_selection import train_test_split\n",
        "train_input, test_input, train_target, test_target = train_test_split(fish_input, fish_target, random_state=42)"
      ],
      "metadata": {
        "id": "JbiLzJ2l1999"
      },
      "execution_count": 18,
      "outputs": []
    },
    {
      "cell_type": "code",
      "source": [
        "from sklearn.preprocessing import StandardScaler\n",
        "ss = StandardScaler()\n",
        "ss.fit(train_input)\n",
        "train_scaled = ss.transform(train_input)\n",
        "test_scaled = ss.transform(test_input)"
      ],
      "metadata": {
        "id": "LutoVP8B9X21"
      },
      "execution_count": 13,
      "outputs": []
    },
    {
      "cell_type": "code",
      "source": [
        "from sklearn.linear_model import SGDClassifier\n",
        "\n",
        "sc = SGDClassifier(loss='log',max_iter=10, random_state=42)\n",
        "sc.fit(train_scaled, train_target)\n",
        "print(sc.score(train_scaled,train_target))\n",
        "print(sc.score(test_scaled, test_target))"
      ],
      "metadata": {
        "colab": {
          "base_uri": "https://localhost:8080/"
        },
        "id": "ZghyDjWY9X54",
        "outputId": "b18cfe26-acf2-4c30-c0fd-cd1774d20604"
      },
      "execution_count": 12,
      "outputs": [
        {
          "output_type": "stream",
          "name": "stdout",
          "text": [
            "0.9732142857142857\n",
            "0.8947368421052632\n"
          ]
        },
        {
          "output_type": "stream",
          "name": "stderr",
          "text": [
            "/usr/local/lib/python3.10/dist-packages/sklearn/linear_model/_stochastic_gradient.py:163: FutureWarning: The loss 'log' was deprecated in v1.1 and will be removed in version 1.3. Use `loss='log_loss'` which is equivalent.\n",
            "  warnings.warn(\n",
            "/usr/local/lib/python3.10/dist-packages/sklearn/linear_model/_stochastic_gradient.py:702: ConvergenceWarning: Maximum number of iteration reached before convergence. Consider increasing max_iter to improve the fit.\n",
            "  warnings.warn(\n"
          ]
        }
      ]
    },
    {
      "cell_type": "code",
      "source": [
        "sc.partial_fit(train_scaled, train_target)\n",
        "print(sc.score(train_scaled, train_target))\n"
      ],
      "metadata": {
        "id": "a8GOiGEh9X9m",
        "colab": {
          "base_uri": "https://localhost:8080/"
        },
        "outputId": "b0c9880c-0c29-440a-d446-b045480844b7"
      },
      "execution_count": 16,
      "outputs": [
        {
          "output_type": "stream",
          "name": "stdout",
          "text": [
            "0.9196428571428571\n"
          ]
        }
      ]
    },
    {
      "cell_type": "code",
      "source": [],
      "metadata": {
        "id": "vPePm6NR9YA6"
      },
      "execution_count": null,
      "outputs": []
    },
    {
      "cell_type": "code",
      "source": [
        "import pandas as pd\n",
        "#data = pd.read_csv('https://raw.githubusercontent.com/imnote/zdata/master/R/iris.csv')\n",
        "data = pd.read_csv('Iris2.csv')\n",
        "data.head()\n",
        "#print(data)\n",
        "print(pd.unique(data['Species']))\n",
        "iris_input = data[['SepalLengthCm', 'SepalWidthCm', 'PetalLengthCm', 'PetalWidthCm']].to_numpy()\n",
        "print(iris_input[:4])\n",
        "\n",
        "iris_target = data['Species'].to_numpy()\n",
        "print(iris_target)\n"
      ],
      "metadata": {
        "colab": {
          "base_uri": "https://localhost:8080/"
        },
        "id": "75-rpsKZ9YDf",
        "outputId": "2e328ed3-5f46-4503-ba99-c1534c75fc96"
      },
      "execution_count": 4,
      "outputs": [
        {
          "output_type": "stream",
          "name": "stdout",
          "text": [
            "['Iris-setosa' 'Iris-versicolor' 'Iris-virginica']\n",
            "[[5.1 3.5 1.4 0.2]\n",
            " [4.9 3.  1.4 0.2]\n",
            " [4.7 3.2 1.3 0.2]\n",
            " [4.6 3.1 1.5 0.2]]\n",
            "['Iris-setosa' 'Iris-setosa' 'Iris-setosa' 'Iris-setosa' 'Iris-setosa'\n",
            " 'Iris-setosa' 'Iris-setosa' 'Iris-setosa' 'Iris-setosa' 'Iris-setosa'\n",
            " 'Iris-setosa' 'Iris-setosa' 'Iris-setosa' 'Iris-setosa' 'Iris-setosa'\n",
            " 'Iris-setosa' 'Iris-setosa' 'Iris-setosa' 'Iris-setosa' 'Iris-setosa'\n",
            " 'Iris-setosa' 'Iris-setosa' 'Iris-setosa' 'Iris-setosa' 'Iris-setosa'\n",
            " 'Iris-setosa' 'Iris-setosa' 'Iris-setosa' 'Iris-setosa' 'Iris-setosa'\n",
            " 'Iris-setosa' 'Iris-setosa' 'Iris-setosa' 'Iris-setosa' 'Iris-setosa'\n",
            " 'Iris-setosa' 'Iris-setosa' 'Iris-setosa' 'Iris-setosa' 'Iris-setosa'\n",
            " 'Iris-setosa' 'Iris-setosa' 'Iris-setosa' 'Iris-setosa' 'Iris-setosa'\n",
            " 'Iris-setosa' 'Iris-setosa' 'Iris-setosa' 'Iris-setosa' 'Iris-setosa'\n",
            " 'Iris-versicolor' 'Iris-versicolor' 'Iris-versicolor' 'Iris-versicolor'\n",
            " 'Iris-versicolor' 'Iris-versicolor' 'Iris-versicolor' 'Iris-versicolor'\n",
            " 'Iris-versicolor' 'Iris-versicolor' 'Iris-versicolor' 'Iris-versicolor'\n",
            " 'Iris-versicolor' 'Iris-versicolor' 'Iris-versicolor' 'Iris-versicolor'\n",
            " 'Iris-versicolor' 'Iris-versicolor' 'Iris-versicolor' 'Iris-versicolor'\n",
            " 'Iris-versicolor' 'Iris-versicolor' 'Iris-versicolor' 'Iris-versicolor'\n",
            " 'Iris-versicolor' 'Iris-versicolor' 'Iris-versicolor' 'Iris-versicolor'\n",
            " 'Iris-versicolor' 'Iris-versicolor' 'Iris-versicolor' 'Iris-versicolor'\n",
            " 'Iris-versicolor' 'Iris-versicolor' 'Iris-versicolor' 'Iris-versicolor'\n",
            " 'Iris-versicolor' 'Iris-versicolor' 'Iris-versicolor' 'Iris-versicolor'\n",
            " 'Iris-versicolor' 'Iris-versicolor' 'Iris-versicolor' 'Iris-versicolor'\n",
            " 'Iris-versicolor' 'Iris-versicolor' 'Iris-versicolor' 'Iris-versicolor'\n",
            " 'Iris-versicolor' 'Iris-versicolor' 'Iris-virginica' 'Iris-virginica'\n",
            " 'Iris-virginica' 'Iris-virginica' 'Iris-virginica' 'Iris-virginica'\n",
            " 'Iris-virginica' 'Iris-virginica' 'Iris-virginica' 'Iris-virginica'\n",
            " 'Iris-virginica' 'Iris-virginica' 'Iris-virginica' 'Iris-virginica'\n",
            " 'Iris-virginica' 'Iris-virginica' 'Iris-virginica' 'Iris-virginica'\n",
            " 'Iris-virginica' 'Iris-virginica' 'Iris-virginica' 'Iris-virginica'\n",
            " 'Iris-virginica' 'Iris-virginica' 'Iris-virginica' 'Iris-virginica'\n",
            " 'Iris-virginica' 'Iris-virginica' 'Iris-virginica' 'Iris-virginica'\n",
            " 'Iris-virginica' 'Iris-virginica' 'Iris-virginica' 'Iris-virginica'\n",
            " 'Iris-virginica' 'Iris-virginica' 'Iris-virginica' 'Iris-virginica'\n",
            " 'Iris-virginica' 'Iris-virginica' 'Iris-virginica' 'Iris-virginica'\n",
            " 'Iris-virginica' 'Iris-virginica' 'Iris-virginica' 'Iris-virginica'\n",
            " 'Iris-virginica' 'Iris-virginica' 'Iris-virginica' 'Iris-virginica']\n"
          ]
        }
      ]
    },
    {
      "cell_type": "code",
      "source": [
        "from sklearn.model_selection import train_test_split\n",
        "train_input, test_input, train_target, test_target = train_test_split(iris_input, iris_target, stratify=iris_target, random_state=150)\n",
        "print(train_input.shape, test_input.shape)"
      ],
      "metadata": {
        "colab": {
          "base_uri": "https://localhost:8080/"
        },
        "id": "elLSLe6u9YFn",
        "outputId": "c0eea0ae-31a1-46e4-8918-d969c7c4b49f"
      },
      "execution_count": 5,
      "outputs": [
        {
          "output_type": "stream",
          "name": "stdout",
          "text": [
            "(112, 4) (38, 4)\n"
          ]
        }
      ]
    },
    {
      "cell_type": "code",
      "source": [
        "from sklearn.preprocessing import StandardScaler\n",
        "ss = StandardScaler()\n",
        "ss.fit(train_input)\n",
        "train_scaled = ss.transform(train_input)\n",
        "test_scaled = ss.transform(test_input)\n",
        "\n"
      ],
      "metadata": {
        "id": "dvItKVhW9YHy"
      },
      "execution_count": 6,
      "outputs": []
    },
    {
      "cell_type": "code",
      "source": [
        "from sklearn.neighbors import KNeighborsClassifier\n",
        "kn = KNeighborsClassifier()\n",
        "kn.fit(train_scaled,train_target)\n",
        "print(kn.score(train_scaled, train_target))\n",
        "print(kn.score(test_scaled, test_target))"
      ],
      "metadata": {
        "colab": {
          "base_uri": "https://localhost:8080/"
        },
        "id": "5dza9Pw_T5z8",
        "outputId": "6b388304-5788-408d-ced6-f52b48ba819d"
      },
      "execution_count": 7,
      "outputs": [
        {
          "output_type": "stream",
          "name": "stdout",
          "text": [
            "0.9642857142857143\n",
            "0.9473684210526315\n"
          ]
        }
      ]
    },
    {
      "cell_type": "code",
      "source": [
        "print(kn.classes_)"
      ],
      "metadata": {
        "colab": {
          "base_uri": "https://localhost:8080/"
        },
        "id": "SkxWkf6MUjPs",
        "outputId": "7fc6e3de-a4bb-46dd-b78a-3d2d58a2c452"
      },
      "execution_count": 8,
      "outputs": [
        {
          "output_type": "stream",
          "name": "stdout",
          "text": [
            "['Iris-setosa' 'Iris-versicolor' 'Iris-virginica']\n"
          ]
        }
      ]
    },
    {
      "cell_type": "code",
      "source": [
        "print(kn.predict(test_scaled[:5]))"
      ],
      "metadata": {
        "colab": {
          "base_uri": "https://localhost:8080/"
        },
        "id": "EG4cSgnLUjSH",
        "outputId": "5b071582-357a-43a9-8b5f-6371e9ef2620"
      },
      "execution_count": 9,
      "outputs": [
        {
          "output_type": "stream",
          "name": "stdout",
          "text": [
            "['Iris-versicolor' 'Iris-versicolor' 'Iris-versicolor' 'Iris-setosa'\n",
            " 'Iris-virginica']\n"
          ]
        }
      ]
    },
    {
      "cell_type": "code",
      "source": [
        "\n"
      ],
      "metadata": {
        "id": "7ipGN7B5UjVB"
      },
      "execution_count": null,
      "outputs": []
    },
    {
      "cell_type": "code",
      "source": [],
      "metadata": {
        "id": "OdjEHggYUjXX"
      },
      "execution_count": null,
      "outputs": []
    },
    {
      "cell_type": "markdown",
      "source": [],
      "metadata": {
        "id": "4Rs0mA2rnbQH"
      }
    }
  ]
}
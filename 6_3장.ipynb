{
  "nbformat": 4,
  "nbformat_minor": 0,
  "metadata": {
    "colab": {
      "provenance": [],
      "authorship_tag": "ABX9TyOCYn3nTdu+zs+otYiErjPC",
      "include_colab_link": true
    },
    "kernelspec": {
      "name": "python3",
      "display_name": "Python 3"
    },
    "language_info": {
      "name": "python"
    }
  },
  "cells": [
    {
      "cell_type": "markdown",
      "metadata": {
        "id": "view-in-github",
        "colab_type": "text"
      },
      "source": [
        "<a href=\"https://colab.research.google.com/github/stargazer0/MachineLearning/blob/main/6_3%EC%9E%A5.ipynb\" target=\"_parent\"><img src=\"https://colab.research.google.com/assets/colab-badge.svg\" alt=\"Open In Colab\"/></a>"
      ]
    },
    {
      "cell_type": "code",
      "execution_count": null,
      "metadata": {
        "id": "MWJ2zOOuuGRm"
      },
      "outputs": [],
      "source": [
        "!wget https://bit.ly/fruits_300_data -O fruits_300.npy"
      ]
    },
    {
      "cell_type": "code",
      "source": [
        "import numpy as np\n",
        "\n",
        "fruits = np.load('fruits_300.npy')\n",
        "fruits_2d = fruits.reshape(-1, 100*100)"
      ],
      "metadata": {
        "id": "mbZM871huGz9"
      },
      "execution_count": null,
      "outputs": []
    },
    {
      "cell_type": "code",
      "source": [
        "from sklearn.decomposition import PCA\n",
        "\n",
        "pca = PCA(n_components=50)\n",
        "pca.fit(fruits_2d)"
      ],
      "metadata": {
        "id": "K-cXQojduG2V"
      },
      "execution_count": null,
      "outputs": []
    },
    {
      "cell_type": "code",
      "source": [
        "print(pca.components_.shape)"
      ],
      "metadata": {
        "id": "WSCPlC2WuG41"
      },
      "execution_count": null,
      "outputs": []
    },
    {
      "cell_type": "code",
      "source": [
        "import matplotlib.pyplot as plt\n",
        "\n",
        "def draw_fruits(arr, ratio=1):\n",
        "    n = len(arr)\n",
        "    rows = int(np.ceil(n/10))\n",
        "    cols = n if rows < 2 else 10\n",
        "    fig, axs = plt.subplots(rows, cols,\n",
        "                            figsize=(cols*ratio, rows*ratio), squeeze=False)\n",
        "    for i in range(rows):\n",
        "        for j in range(cols):\n",
        "            if i*10 + j < n:\n",
        "                axs[i, j].imshow(arr[i*10 + j], cmap='gray_r')\n",
        "            axs[i, j].axis('off')\n",
        "    plt.show()"
      ],
      "metadata": {
        "id": "jC_ClLC8uG7M"
      },
      "execution_count": null,
      "outputs": []
    },
    {
      "cell_type": "code",
      "source": [
        "draw_fruits(pca.components_.reshape(-1, 100, 100))"
      ],
      "metadata": {
        "id": "rRSW6VgCuG9l"
      },
      "execution_count": null,
      "outputs": []
    },
    {
      "cell_type": "code",
      "source": [
        "print(fruits_2d.shape)"
      ],
      "metadata": {
        "id": "astvJLy9uHAD"
      },
      "execution_count": null,
      "outputs": []
    },
    {
      "cell_type": "code",
      "source": [
        "fruits_pca = pca.transform(fruits_2d)"
      ],
      "metadata": {
        "id": "x4TQExoHuHCi"
      },
      "execution_count": null,
      "outputs": []
    },
    {
      "cell_type": "code",
      "source": [
        "print(fruits_pca.shape)"
      ],
      "metadata": {
        "id": "J-mzOG1BuHE6"
      },
      "execution_count": null,
      "outputs": []
    },
    {
      "cell_type": "code",
      "source": [
        "fruits_inverse = pca.inverse_transform(fruits_pca)\n",
        "print(fruits_inverse.shape)"
      ],
      "metadata": {
        "id": "dVKrjdIHuHHj"
      },
      "execution_count": null,
      "outputs": []
    },
    {
      "cell_type": "code",
      "source": [
        "fruits_reconstruct = fruits_inverse.reshape(-1, 100, 100)"
      ],
      "metadata": {
        "id": "zvY_-iWCuHKJ"
      },
      "execution_count": null,
      "outputs": []
    },
    {
      "cell_type": "code",
      "source": [
        "for start in [0, 100, 200]:\n",
        "    draw_fruits(fruits_reconstruct[start:start+100])\n",
        "    print(\"\\n\")"
      ],
      "metadata": {
        "id": "zoJK925suHMh"
      },
      "execution_count": null,
      "outputs": []
    },
    {
      "cell_type": "code",
      "source": [
        "print(np.sum(pca.explained_variance_ratio_))"
      ],
      "metadata": {
        "id": "N1Tq11q4uHO5"
      },
      "execution_count": null,
      "outputs": []
    },
    {
      "cell_type": "code",
      "source": [
        "plt.plot(pca.explained_variance_ratio_)"
      ],
      "metadata": {
        "id": "a4qiaf9kuHRr"
      },
      "execution_count": null,
      "outputs": []
    },
    {
      "cell_type": "code",
      "source": [
        "from sklearn.linear_model import LogisticRegression\n",
        "\n",
        "lr = LogisticRegression()"
      ],
      "metadata": {
        "id": "2ASoTJsnumGj"
      },
      "execution_count": null,
      "outputs": []
    },
    {
      "cell_type": "code",
      "source": [
        "target = np.array([0] * 100 + [1] * 100 + [2] * 100)"
      ],
      "metadata": {
        "id": "ncGLkX7QumJh"
      },
      "execution_count": null,
      "outputs": []
    },
    {
      "cell_type": "code",
      "source": [
        "from sklearn.model_selection import cross_validate\n",
        "\n",
        "scores = cross_validate(lr, fruits_2d, target)\n",
        "print(np.mean(scores['test_score']))\n",
        "print(np.mean(scores['fit_time']))"
      ],
      "metadata": {
        "id": "fXF2TyXGumMB"
      },
      "execution_count": null,
      "outputs": []
    },
    {
      "cell_type": "code",
      "source": [
        "scores = cross_validate(lr, fruits_pca, target)\n",
        "print(np.mean(scores['test_score']))\n",
        "print(np.mean(scores['fit_time']))"
      ],
      "metadata": {
        "id": "dsX6kOG8umOa"
      },
      "execution_count": null,
      "outputs": []
    },
    {
      "cell_type": "code",
      "source": [
        "pca = PCA(n_components=0.5)\n",
        "pca.fit(fruits_2d)"
      ],
      "metadata": {
        "id": "vmV7YCStumRA"
      },
      "execution_count": null,
      "outputs": []
    },
    {
      "cell_type": "code",
      "source": [
        "print(pca.n_components_)"
      ],
      "metadata": {
        "id": "CFM65W7DumTJ"
      },
      "execution_count": null,
      "outputs": []
    },
    {
      "cell_type": "code",
      "source": [
        "fruits_pca = pca.transform(fruits_2d)\n",
        "print(fruits_pca.shape)"
      ],
      "metadata": {
        "id": "hLQ35qoIu2gx"
      },
      "execution_count": null,
      "outputs": []
    },
    {
      "cell_type": "code",
      "source": [
        "scores = cross_validate(lr, fruits_pca, target)\n",
        "print(np.mean(scores['test_score']))\n",
        "print(np.mean(scores['fit_time']))"
      ],
      "metadata": {
        "id": "NzYSHzL8u2jM"
      },
      "execution_count": null,
      "outputs": []
    },
    {
      "cell_type": "code",
      "source": [
        "from sklearn.cluster import KMeans\n",
        "\n",
        "km = KMeans(n_clusters=3, random_state=42)\n",
        "km.fit(fruits_pca)"
      ],
      "metadata": {
        "id": "Z_66j0Gmu2l_"
      },
      "execution_count": null,
      "outputs": []
    },
    {
      "cell_type": "code",
      "source": [
        "print(np.unique(km.labels_, return_counts=True))"
      ],
      "metadata": {
        "id": "MJ5D4iccu2oa"
      },
      "execution_count": null,
      "outputs": []
    },
    {
      "cell_type": "code",
      "source": [
        "for label in range(0, 3):\n",
        "    draw_fruits(fruits[km.labels_ == label])\n",
        "    print(\"\\n\")"
      ],
      "metadata": {
        "id": "nzwdm2FMu2rC"
      },
      "execution_count": null,
      "outputs": []
    },
    {
      "cell_type": "code",
      "source": [
        "for label in range(0, 3):\n",
        "    data = fruits_pca[km.labels_ == label]\n",
        "    plt.scatter(data[:,0], data[:,1])\n",
        "plt.legend(['apple', 'banana', 'pineapple'])\n",
        "plt.show()"
      ],
      "metadata": {
        "id": "Ayy10mjRu2tD"
      },
      "execution_count": null,
      "outputs": []
    },
    {
      "cell_type": "code",
      "source": [],
      "metadata": {
        "id": "Cm_5fXB7u2wB"
      },
      "execution_count": null,
      "outputs": []
    },
    {
      "cell_type": "code",
      "source": [],
      "metadata": {
        "id": "bd_5J4fGu2x1"
      },
      "execution_count": null,
      "outputs": []
    },
    {
      "cell_type": "code",
      "source": [],
      "metadata": {
        "id": "YpiyyBObu20n"
      },
      "execution_count": null,
      "outputs": []
    },
    {
      "cell_type": "code",
      "source": [],
      "metadata": {
        "id": "j93TwFQ-u22-"
      },
      "execution_count": null,
      "outputs": []
    }
  ]
}